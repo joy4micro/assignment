{
 "cells": [
  {
   "cell_type": "markdown",
   "metadata": {},
   "source": [
    "#### 1.1 Write a Python Program to implement your own myreduce() function which works exactly like Python's built-in function reduce()"
   ]
  },
  {
   "cell_type": "code",
   "execution_count": 1,
   "metadata": {},
   "outputs": [
    {
     "name": "stdout",
     "output_type": "stream",
     "text": [
      "10\n"
     ]
    }
   ],
   "source": [
    "numbers = [0, 1, 2, 3, 4]\n",
    "\n",
    "def myreduce(numbers):\n",
    "    sum = 0\n",
    "    for i in numbers:\n",
    "        sum += i \n",
    "    return sum\n",
    "        \n",
    "sum = myreduce(numbers)\n",
    "print(sum)"
   ]
  },
  {
   "cell_type": "markdown",
   "metadata": {},
   "source": [
    "#### 1.2 Write a Python program to implement your own myfilter() function which works exactly like Python's built-in function filter()"
   ]
  },
  {
   "cell_type": "code",
   "execution_count": 2,
   "metadata": {},
   "outputs": [
    {
     "name": "stdout",
     "output_type": "stream",
     "text": [
      "[15, 20, 25, 30]\n"
     ]
    }
   ],
   "source": [
    "ages = [5, 15, 20, 25, 30]\n",
    "\n",
    "def myfilter(values, filter_value):\n",
    "    filtered_list = []\n",
    "    for i in values:\n",
    "        if i >= filter_value:\n",
    "            filtered_list.append(i)\n",
    "    return filtered_list\n",
    "\n",
    "filtered_age = myfilter(ages, 15)\n",
    "print(filtered_age)"
   ]
  },
  {
   "cell_type": "markdown",
   "metadata": {},
   "source": [
    "#### 2. Implement List comprehensions to produce the following lists. Write List comprehensions to produce the following Lists\n",
    "\n",
    "###### ['x', 'xx', 'xxx', 'xxxx', 'y', 'yy', 'yyy', 'yyyy', 'z', 'zz', 'zzz', 'zzzz']\n",
    "###### ['x', 'y', 'z', 'xx', 'yy', 'zz', 'xxx', 'yyy', 'zzz', 'xxxx', 'yyyy', 'zzzz']\n",
    "###### [[2], [3], [4], [3], [4], [5], [4], [5], [6]]\n",
    "##### [[2, 3, 4, 5], [3, 4, 5, 6], [4, 5, 6, 7], [5, 6, 7, 8]]\n",
    "###### [(1, 1), (2, 1), (3, 1), (1, 2), (2, 2), (3, 2), (1, 3), (2, 3), (3, 3)]"
   ]
  },
  {
   "cell_type": "code",
   "execution_count": 27,
   "metadata": {},
   "outputs": [
    {
     "name": "stdout",
     "output_type": "stream",
     "text": [
      "['x', 'xx', 'xxx', 'xxxx', 'y', 'yy', 'yyy', 'yyyy', 'z', 'zz', 'zzz', 'zzzz']\n",
      "['x', 'y', 'z', 'xx', 'yy', 'zz', 'xxx', 'yyy', 'zzz', 'xxxx', 'yyyy', 'zzzz']\n",
      "[[2], [3], [4], [3], [4], [5], [4], [5], [6]]\n",
      "[[2, 3, 4, 5], [3, 4, 5, 6], [4, 5, 6, 7], [5, 6, 7, 8]]\n",
      "[(1, 1), (2, 1), (3, 1), (1, 2), (2, 2), (3, 2), (1, 3), (2, 3), (3, 3)]\n"
     ]
    }
   ],
   "source": [
    "# 1) \n",
    "values = ['x', 'y', 'z']\n",
    "times = 5\n",
    "container2=[]\n",
    "\n",
    "def combination(value):\n",
    "    for i in range(1, times):\n",
    "        container2.append(i * value)\n",
    "\n",
    "\n",
    "[combination(value) for value in values]\n",
    "print(container2)\n",
    "\n",
    "# 2) \n",
    "\n",
    "container2.sort(key=len)\n",
    "print(container2)\n",
    "\n",
    "# 3) \n",
    "\n",
    "container3 = []\n",
    "def combinationIncrement(number):\n",
    "    container3.append([number])\n",
    "    container3.append([number+1])\n",
    "    container3.append([number+2])\n",
    "\n",
    "\n",
    "[combinationIncrement(number) for number in range(2,5)]\n",
    "print(container3)\n",
    "\n",
    "# 4)\n",
    "\n",
    "container4 = []\n",
    "def combinationIncrementList(number):\n",
    "    vl = [number, number+1, number+2, number+3]\n",
    "    container4.append(vl)\n",
    "\n",
    "\n",
    "[combinationIncrementList(number) for number in range(2,6)]\n",
    "print(container4)\n",
    "\n",
    "# 5)\n",
    "\n",
    "container5 = []\n",
    "def combinationIncrementTuple(number):\n",
    "    container5.append((1, number))\n",
    "    container5.append((2, number))\n",
    "    container5.append((3, number))\n",
    "\n",
    "[combinationIncrementTuple(number) for number in range(1,4)]\n",
    "print(container5)\n"
   ]
  },
  {
   "cell_type": "code",
   "execution_count": 27,
   "metadata": {},
   "outputs": [],
   "source": [
    "### test"
   ]
  },
  {
   "cell_type": "code",
   "execution_count": null,
   "metadata": {},
   "outputs": [],
   "source": []
  }
 ],
 "metadata": {
  "kernelspec": {
   "display_name": "Python 3",
   "language": "python",
   "name": "python3"
  },
  "language_info": {
   "codemirror_mode": {
    "name": "ipython",
    "version": 3
   },
   "file_extension": ".py",
   "mimetype": "text/x-python",
   "name": "python",
   "nbconvert_exporter": "python",
   "pygments_lexer": "ipython3",
   "version": "3.8.5"
  }
 },
 "nbformat": 4,
 "nbformat_minor": 4
}
