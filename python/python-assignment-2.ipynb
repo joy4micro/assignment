{
 "cells": [
  {
   "cell_type": "markdown",
   "metadata": {},
   "source": [
    "#### 1. Create the below pattern using nested for loop in Python.\n",
    "#### *\n",
    "#### **\n",
    "#### ***\n",
    "#### ****\n",
    "#### *****\n",
    "#### ****\n",
    "#### ***\n",
    "#### **\n",
    "#### *"
   ]
  },
  {
   "cell_type": "code",
   "execution_count": 1,
   "metadata": {},
   "outputs": [
    {
     "name": "stdout",
     "output_type": "stream",
     "text": [
      "*\n",
      "**\n",
      "***\n",
      "****\n",
      "*****\n",
      "****\n",
      "***\n",
      "**\n",
      "*\n"
     ]
    }
   ],
   "source": [
    "limit = 6\n",
    "container_all = []\n",
    "container_increment = []\n",
    "container_decrement = []\n",
    "\n",
    "    \n",
    "for i,v in zip(range(1, limit, 1) , range(limit-1, 0, -1)):\n",
    "    container_increment.append(i * '*')\n",
    "    if(v != limit-1):\n",
    "        container_decrement.append(v * '*')\n",
    "\n",
    "\n",
    "container_all = container_increment + container_decrement\n",
    "for value in container_all:\n",
    "    print(value)\n"
   ]
  },
  {
   "cell_type": "markdown",
   "metadata": {},
   "source": [
    "#### 2. Write a Python program to reverse a word after accepting the input from the user.\n",
    "#### Sample Output:\n",
    "#### Input word: ineuron\n",
    "#### Output: norueni"
   ]
  },
  {
   "cell_type": "code",
   "execution_count": 2,
   "metadata": {},
   "outputs": [
    {
     "name": "stdout",
     "output_type": "stream",
     "text": [
      "Enter the word to reverse : ineuron\n",
      "norueni\n"
     ]
    }
   ],
   "source": [
    "word = input('Enter the word to reverse : ')\n",
    "reverse_word = word[::-1]\n",
    "print(reverse_word)"
   ]
  },
  {
   "cell_type": "code",
   "execution_count": null,
   "metadata": {},
   "outputs": [],
   "source": []
  }
 ],
 "metadata": {
  "kernelspec": {
   "display_name": "Python 3",
   "language": "python",
   "name": "python3"
  },
  "language_info": {
   "codemirror_mode": {
    "name": "ipython",
    "version": 3
   },
   "file_extension": ".py",
   "mimetype": "text/x-python",
   "name": "python",
   "nbconvert_exporter": "python",
   "pygments_lexer": "ipython3",
   "version": "3.8.5"
  }
 },
 "nbformat": 4,
 "nbformat_minor": 4
}
