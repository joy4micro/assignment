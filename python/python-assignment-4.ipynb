{
 "cells": [
  {
   "cell_type": "markdown",
   "metadata": {},
   "source": [
    "#### 1.1 Write a Python Program(with class concepts) to find the area of the triangle using the below formula.\n",
    "#### area = (s*(s-a)*(s-b)*(s-c)) ** 0.5\n",
    "#### Function to take the length of the sides of triangle from user should be defined in the parent class and function to calculate the area should be defined in subclass."
   ]
  },
  {
   "cell_type": "code",
   "execution_count": 1,
   "metadata": {},
   "outputs": [],
   "source": [
    "class Traingle:\n",
    "    def __init__(self, s, a, b, c):\n",
    "        self.s = s\n",
    "        self.a = a\n",
    "        self.b = b\n",
    "        self.c = c\n",
    "    \n",
    "    def area(self):\n",
    "        return (self.s *(self.s-self.a) * (self.s-self.b) * (self.s-self.c)) * 0.5"
   ]
  },
  {
   "cell_type": "code",
   "execution_count": 2,
   "metadata": {},
   "outputs": [
    {
     "name": "stdout",
     "output_type": "stream",
     "text": [
      "Ënter the first value 5\n",
      "Ënter the first value 4\n",
      "Ënter the second value 4\n",
      "Ënter the third value 2\n"
     ]
    }
   ],
   "source": [
    "s = int(input(\"Ënter the first value \"))\n",
    "a = int(input(\"Ënter the first value \"))\n",
    "b = int(input(\"Ënter the second value \"))\n",
    "c = int(input(\"Ënter the third value \"))"
   ]
  },
  {
   "cell_type": "code",
   "execution_count": 3,
   "metadata": {},
   "outputs": [
    {
     "name": "stdout",
     "output_type": "stream",
     "text": [
      "7.5\n"
     ]
    }
   ],
   "source": [
    "area_ = Traingle(s, a, b, c)\n",
    "print(area_.area())"
   ]
  },
  {
   "cell_type": "markdown",
   "metadata": {},
   "source": [
    "#### 1.2 Write a function filter_long_words() that takes a list of words and an integer n and returns the list of words that are longer than n."
   ]
  },
  {
   "cell_type": "code",
   "execution_count": 4,
   "metadata": {},
   "outputs": [],
   "source": [
    "class WordLength:\n",
    "    def __init__(self, words, size):\n",
    "        self.words = words\n",
    "        self.size = size\n",
    "  \n",
    "    def filter_long_words(self):\n",
    "        return [word for word in self.words if len(word.strip()) > self.size]\n",
    "        "
   ]
  },
  {
   "cell_type": "code",
   "execution_count": 5,
   "metadata": {},
   "outputs": [
    {
     "name": "stdout",
     "output_type": "stream",
     "text": [
      "Enter the words sunny,raj\n",
      "Enter the size 3\n",
      "['sunny']\n"
     ]
    }
   ],
   "source": [
    "wordsInput = list(map(str, input(\"Enter the words \").split(\",\")))\n",
    "sizeInput = int(input(\"Enter the size \"))\n",
    "\n",
    "words = WordLength(wordsInput, sizeInput)\n",
    "filteredWords = words.filter_long_words()\n",
    "\n",
    "print(filteredWords)"
   ]
  },
  {
   "cell_type": "markdown",
   "metadata": {},
   "source": [
    "#### 2.1 Write a Python program using function concept that maps list of words into a list of integers representing the lengths of the corresponding words.\n",
    "###### Hint: If a list [ ab,cde,erty] is passed on to the python function output should come as [2,3,4]\n",
    "###### Here 2,3 and 4 are the lengths of the words in the list."
   ]
  },
  {
   "cell_type": "code",
   "execution_count": 10,
   "metadata": {},
   "outputs": [],
   "source": [
    "class WordLengthMapper:\n",
    "    def __init__(self, words):\n",
    "        self.words = words\n",
    "  \n",
    "    def map_words(self):\n",
    "        return [len(word.strip()) for word in self.words]"
   ]
  },
  {
   "cell_type": "code",
   "execution_count": 11,
   "metadata": {},
   "outputs": [
    {
     "name": "stdout",
     "output_type": "stream",
     "text": [
      "[2, 3, 4]\n"
     ]
    }
   ],
   "source": [
    "wordMapper = WordLengthMapper(['ab','cde','erty'])\n",
    "WordsLenList = wordMapper.map_words()\n",
    "\n",
    "print(WordsLenList)"
   ]
  },
  {
   "cell_type": "markdown",
   "metadata": {},
   "source": [
    "#### 2.2 Write a Python function which takes a character (i.e. a string of length 1) and returns True if it is a vowel, False otherwise."
   ]
  },
  {
   "cell_type": "code",
   "execution_count": 12,
   "metadata": {},
   "outputs": [],
   "source": [
    "class VowelValidator:\n",
    "    vowel_list = ['a', 'e', 'i', 'o', 'u']\n",
    "    def __init__(self, character):\n",
    "        self.character = character\n",
    "  \n",
    "    def is_vowel(self):\n",
    "        return self.character in self.vowel_list"
   ]
  },
  {
   "cell_type": "code",
   "execution_count": 13,
   "metadata": {},
   "outputs": [
    {
     "name": "stdout",
     "output_type": "stream",
     "text": [
      "True\n"
     ]
    }
   ],
   "source": [
    "validator = VowelValidator('a')\n",
    "isVowel = validator.is_vowel()\n",
    "print(isVowel)"
   ]
  },
  {
   "cell_type": "code",
   "execution_count": null,
   "metadata": {},
   "outputs": [],
   "source": []
  }
 ],
 "metadata": {
  "kernelspec": {
   "display_name": "Python 3",
   "language": "python",
   "name": "python3"
  },
  "language_info": {
   "codemirror_mode": {
    "name": "ipython",
    "version": 3
   },
   "file_extension": ".py",
   "mimetype": "text/x-python",
   "name": "python",
   "nbconvert_exporter": "python",
   "pygments_lexer": "ipython3",
   "version": "3.8.5"
  }
 },
 "nbformat": 4,
 "nbformat_minor": 4
}
