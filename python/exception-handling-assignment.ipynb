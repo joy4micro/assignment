{
 "cells": [
  {
   "cell_type": "markdown",
   "metadata": {},
   "source": [
    "##### 1. Write a function to compute 5/0 and use try/except to catch the exceptions."
   ]
  },
  {
   "cell_type": "code",
   "execution_count": 8,
   "metadata": {},
   "outputs": [],
   "source": [
    "class ExceptionHandler:\n",
    "    def __init__(self, first_number, second_number):\n",
    "        self.first_number = first_number\n",
    "        self.second_number = second_number\n",
    "    \n",
    "    def divide(self):\n",
    "        try:\n",
    "            return self.first_number/self.second_number\n",
    "        except Exception as e:\n",
    "            print(\"Error Reason:\" , e)\n",
    "        "
   ]
  },
  {
   "cell_type": "code",
   "execution_count": 9,
   "metadata": {},
   "outputs": [
    {
     "name": "stdout",
     "output_type": "stream",
     "text": [
      "2.0\n"
     ]
    }
   ],
   "source": [
    "handler = ExceptionHandler(4,2)\n",
    "print(handler.divide())"
   ]
  },
  {
   "cell_type": "code",
   "execution_count": 12,
   "metadata": {},
   "outputs": [
    {
     "name": "stdout",
     "output_type": "stream",
     "text": [
      "Error Reason: division by zero\n"
     ]
    }
   ],
   "source": [
    "handler = ExceptionHandler(4,0)\n",
    "handler.divide()"
   ]
  },
  {
   "cell_type": "markdown",
   "metadata": {},
   "source": [
    "### 2. Implement a Python program to generate all sentences where subject is in [\"Americans\", \"Indians\"] and verb is in [\"Play\", \"watch\"] and the object is in [\"Baseball\",\"cricket\"].\n",
    "###### Hint: Subject,Verb and Object should be declared in the program as shown below.\n",
    "###### subjects=[\"Americans \",\"Indians\"]\n",
    "###### verbs=[\"play\",\"watch\"]\n",
    "###### objects=[\"Baseball\",\"Cricket\"]\n",
    "### Output should come as below:\n",
    "###### Americans play Baseball.\n",
    "###### Americans play Cricket."
   ]
  },
  {
   "cell_type": "code",
   "execution_count": 65,
   "metadata": {},
   "outputs": [],
   "source": [
    "class SentenceGenerator:\n",
    "    def __init__(self, subjects, verbs, objects):\n",
    "        self.subjects = subjects\n",
    "        self.verbs = verbs\n",
    "        self.objects = objects\n",
    "    \n",
    "    def generate_sentence(self):\n",
    "        sentences = []\n",
    "        if len(self.subjects) == len(self.verbs) == len(self.objects):\n",
    "            for i in range(len(self.subjects)):\n",
    "                sentences.append(self.subjects[i] + \" \" + self.verbs[i] + \" \" + self.objects[i])\n",
    "            return sentences\n",
    "        raise ValueError(\"The length don't match\")"
   ]
  },
  {
   "cell_type": "code",
   "execution_count": 66,
   "metadata": {},
   "outputs": [
    {
     "name": "stdout",
     "output_type": "stream",
     "text": [
      "['Americans play Baseball', 'Indians watch Cricket']\n"
     ]
    }
   ],
   "source": [
    "sentenceGenerator = SentenceGenerator([\"Americans\", \"Indians\"], [\"play\", \"watch\"], [\"Baseball\", \"Cricket\"])\n",
    "sentence = sentenceGenerator.generate_sentence()\n",
    "print(sentence)"
   ]
  },
  {
   "cell_type": "code",
   "execution_count": null,
   "metadata": {},
   "outputs": [],
   "source": []
  }
 ],
 "metadata": {
  "kernelspec": {
   "display_name": "Python 3",
   "language": "python",
   "name": "python3"
  },
  "language_info": {
   "codemirror_mode": {
    "name": "ipython",
    "version": 3
   },
   "file_extension": ".py",
   "mimetype": "text/x-python",
   "name": "python",
   "nbconvert_exporter": "python",
   "pygments_lexer": "ipython3",
   "version": "3.8.5"
  }
 },
 "nbformat": 4,
 "nbformat_minor": 4
}
